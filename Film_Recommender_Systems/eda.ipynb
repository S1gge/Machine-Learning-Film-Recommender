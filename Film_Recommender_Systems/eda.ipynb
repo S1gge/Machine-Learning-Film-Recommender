{
 "cells": [
  {
   "cell_type": "code",
   "execution_count": 1,
   "id": "56a0237b",
   "metadata": {},
   "outputs": [],
   "source": [
    "import pandas as pd\n",
    "import numpy as np\n",
    "\n",
    "from sklearn.preprocessing import StandardScaler\n",
    "from sklearn.metrics.pairwise import cosine_similarity\n"
   ]
  },
  {
   "cell_type": "code",
   "execution_count": 2,
   "id": "f2187bd8",
   "metadata": {},
   "outputs": [],
   "source": [
    "movies = pd.read_csv('./CSV/movies.csv')\n",
    "ratings = pd.read_csv('./CSV/ratings.csv')\n",
    "tags = pd.read_csv('./CSV/tags.csv')"
   ]
  },
  {
   "cell_type": "code",
   "execution_count": 3,
   "id": "68113b1c",
   "metadata": {},
   "outputs": [
    {
     "name": "stdout",
     "output_type": "stream",
     "text": [
      "<class 'pandas.core.frame.DataFrame'>\n",
      "RangeIndex: 86537 entries, 0 to 86536\n",
      "Data columns (total 3 columns):\n",
      " #   Column   Non-Null Count  Dtype \n",
      "---  ------   --------------  ----- \n",
      " 0   movieId  86537 non-null  int64 \n",
      " 1   title    86537 non-null  object\n",
      " 2   genres   86537 non-null  object\n",
      "dtypes: int64(1), object(2)\n",
      "memory usage: 2.0+ MB\n"
     ]
    }
   ],
   "source": [
    "movies.info()"
   ]
  },
  {
   "cell_type": "code",
   "execution_count": 4,
   "id": "59e82593",
   "metadata": {},
   "outputs": [
    {
     "data": {
      "text/html": [
       "<div>\n",
       "<style scoped>\n",
       "    .dataframe tbody tr th:only-of-type {\n",
       "        vertical-align: middle;\n",
       "    }\n",
       "\n",
       "    .dataframe tbody tr th {\n",
       "        vertical-align: top;\n",
       "    }\n",
       "\n",
       "    .dataframe thead th {\n",
       "        text-align: right;\n",
       "    }\n",
       "</style>\n",
       "<table border=\"1\" class=\"dataframe\">\n",
       "  <thead>\n",
       "    <tr style=\"text-align: right;\">\n",
       "      <th></th>\n",
       "      <th>movieId</th>\n",
       "      <th>title</th>\n",
       "      <th>genres</th>\n",
       "    </tr>\n",
       "  </thead>\n",
       "  <tbody>\n",
       "    <tr>\n",
       "      <th>0</th>\n",
       "      <td>1</td>\n",
       "      <td>Toy Story (1995)</td>\n",
       "      <td>Adventure|Animation|Children|Comedy|Fantasy</td>\n",
       "    </tr>\n",
       "    <tr>\n",
       "      <th>1</th>\n",
       "      <td>2</td>\n",
       "      <td>Jumanji (1995)</td>\n",
       "      <td>Adventure|Children|Fantasy</td>\n",
       "    </tr>\n",
       "    <tr>\n",
       "      <th>2</th>\n",
       "      <td>3</td>\n",
       "      <td>Grumpier Old Men (1995)</td>\n",
       "      <td>Comedy|Romance</td>\n",
       "    </tr>\n",
       "    <tr>\n",
       "      <th>3</th>\n",
       "      <td>4</td>\n",
       "      <td>Waiting to Exhale (1995)</td>\n",
       "      <td>Comedy|Drama|Romance</td>\n",
       "    </tr>\n",
       "    <tr>\n",
       "      <th>4</th>\n",
       "      <td>5</td>\n",
       "      <td>Father of the Bride Part II (1995)</td>\n",
       "      <td>Comedy</td>\n",
       "    </tr>\n",
       "  </tbody>\n",
       "</table>\n",
       "</div>"
      ],
      "text/plain": [
       "   movieId                               title  \\\n",
       "0        1                    Toy Story (1995)   \n",
       "1        2                      Jumanji (1995)   \n",
       "2        3             Grumpier Old Men (1995)   \n",
       "3        4            Waiting to Exhale (1995)   \n",
       "4        5  Father of the Bride Part II (1995)   \n",
       "\n",
       "                                        genres  \n",
       "0  Adventure|Animation|Children|Comedy|Fantasy  \n",
       "1                   Adventure|Children|Fantasy  \n",
       "2                               Comedy|Romance  \n",
       "3                         Comedy|Drama|Romance  \n",
       "4                                       Comedy  "
      ]
     },
     "execution_count": 4,
     "metadata": {},
     "output_type": "execute_result"
    }
   ],
   "source": [
    "movies.head()"
   ]
  },
  {
   "cell_type": "code",
   "execution_count": 20,
   "id": "9647ee15",
   "metadata": {},
   "outputs": [],
   "source": [
    "#duplikates = movies[movies.duplicated('title', keep=False)].sort_values(\"title\")\n",
    "new_movies = movies.drop_duplicates(\"title\").copy()"
   ]
  },
  {
   "cell_type": "code",
   "execution_count": null,
   "id": "93018145",
   "metadata": {},
   "outputs": [
    {
     "name": "stdout",
     "output_type": "stream",
     "text": [
      "<class 'pandas.core.frame.DataFrame'>\n",
      "Index: 86330 entries, 0 to 86536\n",
      "Data columns (total 4 columns):\n",
      " #   Column       Non-Null Count  Dtype \n",
      "---  ------       --------------  ----- \n",
      " 0   movieId      86330 non-null  int64 \n",
      " 1   genres       86330 non-null  object\n",
      " 2   movie title  86330 non-null  object\n",
      " 3   year         86217 non-null  object\n",
      "dtypes: int64(1), object(3)\n",
      "memory usage: 3.3+ MB\n"
     ]
    }
   ],
   "source": [
    "title_sep = new_movies[\"title\"].str.rsplit(\" \", n=1, expand = True)\n",
    "new_movies[\"movie title\"] = title_sep[0]\n",
    "new_movies[\"year\"] = title_sep[1]\n",
    "new_movies.drop(columns=[\"title\"], inplace=True)\n",
    "new_movies.info()"
   ]
  },
  {
   "cell_type": "code",
   "execution_count": 7,
   "id": "b299b9ae",
   "metadata": {},
   "outputs": [
    {
     "data": {
      "text/html": [
       "<div>\n",
       "<style scoped>\n",
       "    .dataframe tbody tr th:only-of-type {\n",
       "        vertical-align: middle;\n",
       "    }\n",
       "\n",
       "    .dataframe tbody tr th {\n",
       "        vertical-align: top;\n",
       "    }\n",
       "\n",
       "    .dataframe thead th {\n",
       "        text-align: right;\n",
       "    }\n",
       "</style>\n",
       "<table border=\"1\" class=\"dataframe\">\n",
       "  <thead>\n",
       "    <tr style=\"text-align: right;\">\n",
       "      <th></th>\n",
       "      <th>userId</th>\n",
       "      <th>movieId</th>\n",
       "      <th>rating</th>\n",
       "      <th>genres</th>\n",
       "      <th>movie title</th>\n",
       "      <th>year</th>\n",
       "    </tr>\n",
       "  </thead>\n",
       "  <tbody>\n",
       "    <tr>\n",
       "      <th>0</th>\n",
       "      <td>1</td>\n",
       "      <td>1</td>\n",
       "      <td>4.0</td>\n",
       "      <td>Adventure|Animation|Children|Comedy|Fantasy</td>\n",
       "      <td>Toy Story</td>\n",
       "      <td>(1995)</td>\n",
       "    </tr>\n",
       "    <tr>\n",
       "      <th>1</th>\n",
       "      <td>1</td>\n",
       "      <td>110</td>\n",
       "      <td>4.0</td>\n",
       "      <td>Action|Drama|War</td>\n",
       "      <td>Braveheart</td>\n",
       "      <td>(1995)</td>\n",
       "    </tr>\n",
       "    <tr>\n",
       "      <th>2</th>\n",
       "      <td>1</td>\n",
       "      <td>158</td>\n",
       "      <td>4.0</td>\n",
       "      <td>Adventure|Children</td>\n",
       "      <td>Casper</td>\n",
       "      <td>(1995)</td>\n",
       "    </tr>\n",
       "    <tr>\n",
       "      <th>3</th>\n",
       "      <td>1</td>\n",
       "      <td>260</td>\n",
       "      <td>4.5</td>\n",
       "      <td>Action|Adventure|Sci-Fi</td>\n",
       "      <td>Star Wars: Episode IV - A New Hope</td>\n",
       "      <td>(1977)</td>\n",
       "    </tr>\n",
       "    <tr>\n",
       "      <th>4</th>\n",
       "      <td>1</td>\n",
       "      <td>356</td>\n",
       "      <td>5.0</td>\n",
       "      <td>Comedy|Drama|Romance|War</td>\n",
       "      <td>Forrest Gump</td>\n",
       "      <td>(1994)</td>\n",
       "    </tr>\n",
       "  </tbody>\n",
       "</table>\n",
       "</div>"
      ],
      "text/plain": [
       "   userId  movieId  rating                                       genres  \\\n",
       "0       1        1     4.0  Adventure|Animation|Children|Comedy|Fantasy   \n",
       "1       1      110     4.0                             Action|Drama|War   \n",
       "2       1      158     4.0                           Adventure|Children   \n",
       "3       1      260     4.5                      Action|Adventure|Sci-Fi   \n",
       "4       1      356     5.0                     Comedy|Drama|Romance|War   \n",
       "\n",
       "                          movie title    year  \n",
       "0                           Toy Story  (1995)  \n",
       "1                          Braveheart  (1995)  \n",
       "2                              Casper  (1995)  \n",
       "3  Star Wars: Episode IV - A New Hope  (1977)  \n",
       "4                        Forrest Gump  (1994)  "
      ]
     },
     "execution_count": 7,
     "metadata": {},
     "output_type": "execute_result"
    }
   ],
   "source": [
    "movies_with_ratings = ratings.merge(new_movies, on=\"movieId\")\n",
    "movies_with_ratings.drop([\"timestamp\"], axis=1, inplace=True)\n",
    "movies_with_ratings.head()"
   ]
  },
  {
   "cell_type": "code",
   "execution_count": 8,
   "id": "f840953f",
   "metadata": {},
   "outputs": [
    {
     "name": "stdout",
     "output_type": "stream",
     "text": [
      "<class 'pandas.core.frame.DataFrame'>\n",
      "RangeIndex: 33828467 entries, 0 to 33828466\n",
      "Data columns (total 6 columns):\n",
      " #   Column       Non-Null Count     Dtype  \n",
      "---  ------       --------------     -----  \n",
      " 0   userId       33828467 non-null  int64  \n",
      " 1   movieId      33828467 non-null  int64  \n",
      " 2   rating       33828467 non-null  float64\n",
      " 3   genres       33828467 non-null  object \n",
      " 4   movie title  33828467 non-null  object \n",
      " 5   year         33820549 non-null  object \n",
      "dtypes: float64(1), int64(2), object(3)\n",
      "memory usage: 1.5+ GB\n"
     ]
    }
   ],
   "source": [
    "movies_with_ratings.info(show_counts=True)"
   ]
  },
  {
   "cell_type": "code",
   "execution_count": 9,
   "id": "78873c20",
   "metadata": {},
   "outputs": [
    {
     "data": {
      "text/plain": [
       "userId            0\n",
       "movieId           0\n",
       "rating            0\n",
       "genres            0\n",
       "movie title       0\n",
       "year           7918\n",
       "dtype: int64"
      ]
     },
     "execution_count": 9,
     "metadata": {},
     "output_type": "execute_result"
    }
   ],
   "source": [
    "movies_with_ratings.isna().sum()"
   ]
  },
  {
   "cell_type": "code",
   "execution_count": 10,
   "id": "58b05353",
   "metadata": {},
   "outputs": [],
   "source": [
    "movies_with_ratings.fillna('(Release year unknown)', inplace=True)"
   ]
  },
  {
   "cell_type": "code",
   "execution_count": 11,
   "id": "bd278df8",
   "metadata": {},
   "outputs": [
    {
     "name": "stdout",
     "output_type": "stream",
     "text": [
      "<class 'pandas.core.frame.DataFrame'>\n",
      "RangeIndex: 33828467 entries, 0 to 33828466\n",
      "Data columns (total 6 columns):\n",
      " #   Column       Non-Null Count     Dtype  \n",
      "---  ------       --------------     -----  \n",
      " 0   userId       33828467 non-null  int64  \n",
      " 1   movieId      33828467 non-null  int64  \n",
      " 2   rating       33828467 non-null  float64\n",
      " 3   genres       33828467 non-null  object \n",
      " 4   movie title  33828467 non-null  object \n",
      " 5   year         33828467 non-null  object \n",
      "dtypes: float64(1), int64(2), object(3)\n",
      "memory usage: 1.5+ GB\n"
     ]
    }
   ],
   "source": [
    "movies_with_ratings.info(show_counts=True)"
   ]
  },
  {
   "cell_type": "code",
   "execution_count": 12,
   "id": "ab19824b",
   "metadata": {},
   "outputs": [],
   "source": [
    "x = movies_with_ratings.groupby(\"userId\").count()[\"rating\"] > 100\n",
    "expert_users = x[x].index\n",
    "\n",
    "filtered_user_ratings = movies_with_ratings[movies_with_ratings[\"userId\"].isin(expert_users)]\n",
    "\n",
    "y = filtered_user_ratings.groupby(\"movie title\").count()[\"rating\"] >= 50\n",
    "famous_movies = y[y].index\n",
    "\n",
    "user_ratings = filtered_user_ratings[filtered_user_ratings[\"movie title\"].isin(famous_movies)]"
   ]
  },
  {
   "cell_type": "code",
   "execution_count": 13,
   "id": "bbd729d3",
   "metadata": {},
   "outputs": [],
   "source": [
    "design_matrix = user_ratings.pivot_table(index=\"movie title\", columns=\"userId\", values=\"rating\")\n",
    "\n",
    "design_matrix.fillna(0, inplace=True)"
   ]
  },
  {
   "cell_type": "code",
   "execution_count": 14,
   "id": "1c470f2f",
   "metadata": {},
   "outputs": [],
   "source": [
    "scaler = StandardScaler(with_mean=True, with_std=True)\n",
    "design_matrix_centered = scaler.fit_transform(design_matrix)"
   ]
  },
  {
   "cell_type": "code",
   "execution_count": 15,
   "id": "de071aa8",
   "metadata": {},
   "outputs": [
    {
     "data": {
      "text/plain": [
       "array([[1.        , 0.20979135, 0.36035013, ..., 0.33537196, 0.21248281,\n",
       "        0.32273158],\n",
       "       [0.20979135, 1.        , 0.29112775, ..., 0.30047266, 0.19151363,\n",
       "        0.29153297],\n",
       "       [0.36035013, 0.29112775, 1.        , ..., 0.48185077, 0.30609494,\n",
       "        0.44522109],\n",
       "       ...,\n",
       "       [0.33537196, 0.30047266, 0.48185077, ..., 1.        , 0.32272393,\n",
       "        0.45642736],\n",
       "       [0.21248281, 0.19151363, 0.30609494, ..., 0.32272393, 1.        ,\n",
       "        0.29247883],\n",
       "       [0.32273158, 0.29153297, 0.44522109, ..., 0.45642736, 0.29247883,\n",
       "        1.        ]], shape=(15267, 15267))"
      ]
     },
     "execution_count": 15,
     "metadata": {},
     "output_type": "execute_result"
    }
   ],
   "source": [
    "similiarity_score = cosine_similarity(design_matrix_centered)\n",
    "similiarity_score"
   ]
  },
  {
   "cell_type": "code",
   "execution_count": 16,
   "id": "218e2d80",
   "metadata": {},
   "outputs": [],
   "source": [
    "def recommend(movie):\n",
    "    index = np.where(design_matrix.index==movie)[0][0]\n",
    "    similar_movies = sorted(list(enumerate(similiarity_score[index])), key=lambda x: x[1], reverse=True)[1:6]\n",
    "    data = []\n",
    "\n",
    "    for index, similarity in similar_movies:\n",
    "        item = []\n",
    "        temp_df = new_movies[new_movies[\"movie title\"]==design_matrix.index[index]]\n",
    "        item.extend(temp_df[\"movie title\"].values)\n",
    "        item.extend(temp_df[\"year\"].values)\n",
    "        data.append(item)\n",
    "    return data"
   ]
  },
  {
   "cell_type": "code",
   "execution_count": 18,
   "id": "9ef1cf6a",
   "metadata": {},
   "outputs": [
    {
     "data": {
      "text/plain": [
       "[['Forrest Gump', '(1994)'],\n",
       " ['Men in Black (a.k.a. MIB)', '(1997)'],\n",
       " ['Matrix, The', '(1999)'],\n",
       " ['Sixth Sense, The', '(1999)'],\n",
       " ['Saving Private Ryan', '(1998)']]"
      ]
     },
     "execution_count": 18,
     "metadata": {},
     "output_type": "execute_result"
    }
   ],
   "source": [
    "recommend(\"Titanic\")"
   ]
  }
 ],
 "metadata": {
  "kernelspec": {
   "display_name": "ml.venv",
   "language": "python",
   "name": "python3"
  },
  "language_info": {
   "codemirror_mode": {
    "name": "ipython",
    "version": 3
   },
   "file_extension": ".py",
   "mimetype": "text/x-python",
   "name": "python",
   "nbconvert_exporter": "python",
   "pygments_lexer": "ipython3",
   "version": "3.13.2"
  }
 },
 "nbformat": 4,
 "nbformat_minor": 5
}
